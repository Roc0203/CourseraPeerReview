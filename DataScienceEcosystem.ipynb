{
 "cells": [
  {
   "cell_type": "markdown",
   "id": "f1b18dbe-ebca-4967-bcd2-25dcd697d689",
   "metadata": {},
   "source": [
    "# Data Science Tools and Ecosystem"
   ]
  },
  {
   "cell_type": "markdown",
   "id": "0e4b02ad-bdcc-4f4f-b97d-d224ca6e5e8d",
   "metadata": {},
   "source": [
    "_In this notebook, Data Science Tools and Ecosystem are summarized._"
   ]
  },
  {
   "cell_type": "markdown",
   "id": "633805d5-94e0-4040-9002-28d8bdfa5b9c",
   "metadata": {},
   "source": [
    "#Objectives:\n",
    "- Libraries\n",
    "- Languages\n",
    "- Python"
   ]
  },
  {
   "cell_type": "markdown",
   "id": "490d8bcb-1c83-4edc-b28b-e7c29f623567",
   "metadata": {},
   "source": [
    "**Some of the popular languages that Data Scientists use are**"
   ]
  },
  {
   "cell_type": "markdown",
   "id": "b39914d6-d053-4ae0-bbaa-55e7ec28f36b",
   "metadata": {},
   "source": [
    "1. Python\n",
    "2. Rstudio\n",
    "3. SQL"
   ]
  },
  {
   "cell_type": "markdown",
   "id": "782dabb4-b758-480b-9052-5dacadabf0e0",
   "metadata": {},
   "source": [
    "**Some of the commonly used libraries used by Data Scientists include:**"
   ]
  },
  {
   "cell_type": "markdown",
   "id": "3ed38b77-22e8-4ec0-b23f-d63583c842db",
   "metadata": {},
   "source": [
    "1. ggplot\n",
    "2. Tensorflow\n",
    "3. keras"
   ]
  },
  {
   "cell_type": "markdown",
   "id": "f63b3db0-0ec3-4bc7-82b8-addce461e501",
   "metadata": {},
   "source": [
    "|Data Science Tools|\n",
    "|------------------|\n",
    "|VScode|\n",
    "|Jupyterlabs|\n",
    "|Anaconda|"
   ]
  },
  {
   "cell_type": "markdown",
   "id": "82f82762-b9ba-4f0b-a02e-28e13e2c93ed",
   "metadata": {},
   "source": [
    "### Below are a few examples of evaluating arithmetic expressions in Python"
   ]
  },
  {
   "cell_type": "code",
   "execution_count": 22,
   "id": "caae9928-4181-4925-b2d5-5f159c62e044",
   "metadata": {},
   "outputs": [
    {
     "data": {
      "text/plain": [
       "17"
      ]
     },
     "execution_count": 22,
     "metadata": {},
     "output_type": "execute_result"
    }
   ],
   "source": [
    "#This a simple arithmetic expression to mutiply then add integers\n",
    "(3*4)+5"
   ]
  },
  {
   "cell_type": "code",
   "execution_count": 26,
   "id": "93f0512d-a5e2-4935-9fcc-0fe4a85a9635",
   "metadata": {},
   "outputs": [
    {
     "name": "stdout",
     "output_type": "stream",
     "text": [
      "3.3333333333333335\n"
     ]
    }
   ],
   "source": [
    "#This will convert 200 minutes to hours by diving by 60\n",
    "minute = 200\n",
    "hours = minute / 60\n",
    "print(hours)"
   ]
  },
  {
   "cell_type": "markdown",
   "id": "2c56ac9f-3bc0-49b7-a802-553fa6e093a7",
   "metadata": {},
   "source": [
    "## Author\n",
    "_Jupiter O._"
   ]
  },
  {
   "cell_type": "code",
   "execution_count": null,
   "id": "2c552c83-3b92-40a6-a683-6bd44cffafed",
   "metadata": {},
   "outputs": [],
   "source": []
  }
 ],
 "metadata": {
  "kernelspec": {
   "display_name": "Python 3 (ipykernel)",
   "language": "python",
   "name": "python3"
  },
  "language_info": {
   "codemirror_mode": {
    "name": "ipython",
    "version": 3
   },
   "file_extension": ".py",
   "mimetype": "text/x-python",
   "name": "python",
   "nbconvert_exporter": "python",
   "pygments_lexer": "ipython3",
   "version": "3.12.4"
  }
 },
 "nbformat": 4,
 "nbformat_minor": 5
}
